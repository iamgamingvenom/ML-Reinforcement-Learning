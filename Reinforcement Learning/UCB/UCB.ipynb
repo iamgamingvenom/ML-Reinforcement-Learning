{
 "cells": [
  {
   "cell_type": "code",
   "execution_count": 74,
   "id": "227da18f-8eb7-4412-bee1-740d3fd49a4e",
   "metadata": {},
   "outputs": [],
   "source": [
    "import numpy as np\n",
    "import matplotlib.pyplot as plt\n",
    "import pandas as pd"
   ]
  },
  {
   "cell_type": "code",
   "execution_count": 75,
   "id": "a9698e4d-8e4e-4f03-a08b-b1b6f663bf28",
   "metadata": {},
   "outputs": [
    {
     "data": {
      "text/html": [
       "<div>\n",
       "<style scoped>\n",
       "    .dataframe tbody tr th:only-of-type {\n",
       "        vertical-align: middle;\n",
       "    }\n",
       "\n",
       "    .dataframe tbody tr th {\n",
       "        vertical-align: top;\n",
       "    }\n",
       "\n",
       "    .dataframe thead th {\n",
       "        text-align: right;\n",
       "    }\n",
       "</style>\n",
       "<table border=\"1\" class=\"dataframe\">\n",
       "  <thead>\n",
       "    <tr style=\"text-align: right;\">\n",
       "      <th></th>\n",
       "      <th>Ad 1</th>\n",
       "      <th>Ad 2</th>\n",
       "      <th>Ad 3</th>\n",
       "      <th>Ad 4</th>\n",
       "      <th>Ad 5</th>\n",
       "      <th>Ad 6</th>\n",
       "      <th>Ad 7</th>\n",
       "      <th>Ad 8</th>\n",
       "      <th>Ad 9</th>\n",
       "      <th>Ad 10</th>\n",
       "    </tr>\n",
       "  </thead>\n",
       "  <tbody>\n",
       "    <tr>\n",
       "      <th>0</th>\n",
       "      <td>1</td>\n",
       "      <td>0</td>\n",
       "      <td>0</td>\n",
       "      <td>0</td>\n",
       "      <td>1</td>\n",
       "      <td>0</td>\n",
       "      <td>0</td>\n",
       "      <td>0</td>\n",
       "      <td>1</td>\n",
       "      <td>0</td>\n",
       "    </tr>\n",
       "    <tr>\n",
       "      <th>1</th>\n",
       "      <td>0</td>\n",
       "      <td>0</td>\n",
       "      <td>0</td>\n",
       "      <td>0</td>\n",
       "      <td>0</td>\n",
       "      <td>0</td>\n",
       "      <td>0</td>\n",
       "      <td>0</td>\n",
       "      <td>1</td>\n",
       "      <td>0</td>\n",
       "    </tr>\n",
       "    <tr>\n",
       "      <th>2</th>\n",
       "      <td>0</td>\n",
       "      <td>0</td>\n",
       "      <td>0</td>\n",
       "      <td>0</td>\n",
       "      <td>0</td>\n",
       "      <td>0</td>\n",
       "      <td>0</td>\n",
       "      <td>0</td>\n",
       "      <td>0</td>\n",
       "      <td>0</td>\n",
       "    </tr>\n",
       "  </tbody>\n",
       "</table>\n",
       "</div>"
      ],
      "text/plain": [
       "   Ad 1  Ad 2  Ad 3  Ad 4  Ad 5  Ad 6  Ad 7  Ad 8  Ad 9  Ad 10\n",
       "0     1     0     0     0     1     0     0     0     1      0\n",
       "1     0     0     0     0     0     0     0     0     1      0\n",
       "2     0     0     0     0     0     0     0     0     0      0"
      ]
     },
     "execution_count": 75,
     "metadata": {},
     "output_type": "execute_result"
    }
   ],
   "source": [
    "df = pd.read_csv('Ads_CTR_Optimisation.csv')\n",
    "df.head(3)"
   ]
  },
  {
   "cell_type": "code",
   "execution_count": 76,
   "id": "1b008618-6e03-459e-bc71-fd7ba18ed9cd",
   "metadata": {},
   "outputs": [
    {
     "name": "stdout",
     "output_type": "stream",
     "text": [
      "<class 'pandas.core.frame.DataFrame'>\n",
      "RangeIndex: 10000 entries, 0 to 9999\n",
      "Data columns (total 10 columns):\n",
      " #   Column  Non-Null Count  Dtype\n",
      "---  ------  --------------  -----\n",
      " 0   Ad 1    10000 non-null  int64\n",
      " 1   Ad 2    10000 non-null  int64\n",
      " 2   Ad 3    10000 non-null  int64\n",
      " 3   Ad 4    10000 non-null  int64\n",
      " 4   Ad 5    10000 non-null  int64\n",
      " 5   Ad 6    10000 non-null  int64\n",
      " 6   Ad 7    10000 non-null  int64\n",
      " 7   Ad 8    10000 non-null  int64\n",
      " 8   Ad 9    10000 non-null  int64\n",
      " 9   Ad 10   10000 non-null  int64\n",
      "dtypes: int64(10)\n",
      "memory usage: 781.4 KB\n"
     ]
    }
   ],
   "source": [
    "df.info()"
   ]
  },
  {
   "cell_type": "markdown",
   "id": "5e21f7dc-235a-4d52-967f-8ccbbc29b13a",
   "metadata": {},
   "source": [
    "#### Implementing UCB"
   ]
  },
  {
   "cell_type": "code",
   "execution_count": 78,
   "id": "9896df36-933b-44d2-b984-297e2484413f",
   "metadata": {},
   "outputs": [],
   "source": [
    "import math\n",
    "import pandas as pd\n",
    "\n",
    "# Assuming df is a pandas DataFrame with rewards for each ad (rows are rounds, columns are ads)\n",
    "# Example: df = pd.DataFrame(...)\n",
    "\n",
    "N = 10000  # Total number of samples (rounds)\n",
    "ad_num = 10  # Number of ads\n",
    "ads_selected = []  # Full list of the ads selected over the round\n",
    "number_of_selection = [0] * ad_num  # Number of times each ad was selected\n",
    "sum_of_rewards = [0] * ad_num  # Sum of rewards for each ad\n",
    "total_reward = 0  # Total reward\n",
    "\n",
    "# Loop through rounds\n",
    "for i in range(0, N):\n",
    "    ad = 0\n",
    "    max_upper_bound = 0\n",
    "    \n",
    "    # Loop through each ad\n",
    "    for j in range(0, ad_num):\n",
    "        if number_of_selection[j] > 0:\n",
    "            # Calculate average reward and confidence bound\n",
    "            average_reward = sum_of_rewards[j] / number_of_selection[j]\n",
    "            conf_bound = math.sqrt(3 / 2 * math.log(i + 1) / number_of_selection[j])\n",
    "            upper_bound = average_reward + conf_bound\n",
    "        else:\n",
    "            upper_bound = 1e400  # Set to a large value for ads not yet selected\n",
    "\n",
    "        # Choose the ad with the highest upper confidence bound\n",
    "        if upper_bound > max_upper_bound:\n",
    "            max_upper_bound = upper_bound\n",
    "            ad = j\n",
    "\n",
    "    ads_selected.append(ad)\n",
    "    number_of_selection[ad] += 1\n",
    "\n",
    "    # Get the reward for the selected ad\n",
    "    reward = df.values[i, ad]\n",
    "    sum_of_rewards[ad] += reward\n",
    "    total_reward += reward\n",
    "\n",
    "# At the end, you will have:\n",
    "# - `ads_selected`: a list of the ads selected at each round\n",
    "# - `total_reward`: the cumulative reward\n"
   ]
  },
  {
   "cell_type": "code",
   "execution_count": null,
   "id": "1c85980a-e177-45f6-ae55-31f2f14b81fe",
   "metadata": {},
   "outputs": [],
   "source": []
  },
  {
   "cell_type": "markdown",
   "id": "d00e030e-125f-4012-943f-3ebae6a4ab0e",
   "metadata": {},
   "source": [
    "#### Visualising"
   ]
  },
  {
   "cell_type": "code",
   "execution_count": 80,
   "id": "e98b348a-4abe-468f-bf55-29ab9bb697c9",
   "metadata": {},
   "outputs": [
    {
     "data": {
      "image/png": "[encoded data removed]",
      "text/plain": [
       "<Figure size 640x480 with 1 Axes>"
      ]
     },
     "metadata": {},
     "output_type": "display_data"
    }
   ],
   "source": [
    "plt.hist(ads_selected)\n",
    "plt.show()"
   ]
  },
  {
   "cell_type": "code",
   "execution_count": null,
   "id": "daba2e89-ed3a-4e2b-8a3f-73476a397158",
   "metadata": {},
   "outputs": [],
   "source": []
  }
 ],
 "metadata": {
  "kernelspec": {
   "display_name": "Python 3 (ipykernel)",
   "language": "python",
   "name": "python3"
  },
  "language_info": {
   "codemirror_mode": {
    "name": "ipython",
    "version": 3
   },
   "file_extension": ".py",
   "mimetype": "text/x-python",
   "name": "python",
   "nbconvert_exporter": "python",
   "pygments_lexer": "ipython3",
   "version": "3.12.4"
  }
 },
 "nbformat": 4,
 "nbformat_minor": 5
}
